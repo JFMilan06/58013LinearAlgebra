{
  "nbformat": 4,
  "nbformat_minor": 0,
  "metadata": {
    "colab": {
      "provenance": [],
      "authorship_tag": "ABX9TyOO4W7t0l9ZRjz74BZq4Bak",
      "include_colab_link": true
    },
    "kernelspec": {
      "name": "python3",
      "display_name": "Python 3"
    },
    "language_info": {
      "name": "python"
    }
  },
  "cells": [
    {
      "cell_type": "markdown",
      "metadata": {
        "id": "view-in-github",
        "colab_type": "text"
      },
      "source": [
        "<a href=\"https://colab.research.google.com/github/JFMilan06/58013LinearAlgebra/blob/main/Python_Exercise_10.ipynb\" target=\"_parent\"><img src=\"https://colab.research.google.com/assets/colab-badge.svg\" alt=\"Open In Colab\"/></a>"
      ]
    },
    {
      "cell_type": "code",
      "execution_count": 7,
      "metadata": {
        "colab": {
          "base_uri": "https://localhost:8080/"
        },
        "id": "bUIRaM8M5dUm",
        "outputId": "03caa753-e515-4d2f-c79e-0307079ba4fc"
      },
      "outputs": [
        {
          "output_type": "stream",
          "name": "stdout",
          "text": [
            "The price of flour per sack is 330\n",
            "The price of yeast per pack is 7220\n",
            "The price of a piece of egg is 10\n"
          ]
        }
      ],
      "source": [
        "import numpy as np\n",
        "import matplotlib.pyplot as plt\n",
        "A = np.array([[30,10,120],[40,20,200],[50,40,360]])\n",
        "np.linalg.det(A)\n",
        "A1 = ([[12500,10,120],[18000,20,200],[25700,40,360]])\n",
        "np.linalg.det(A1)\n",
        "A2= np.array([[30,12500,120],[20,18000,200],[50,25700,360]])\n",
        "np.linalg.det(A2)\n",
        "A3= np.array([[30,10,12500],[40,20,18000],[50,40,25700]])\n",
        "np.linalg.det(A3)\n",
        "x=np.linalg.det(A1)+np.linalg.det(A2)+np.linalg.det(A3)\n",
        "\n",
        "x1 = np.linalg.det(A1)/np.linalg.det(A)\n",
        "x2 = np.linalg.det(A2)/np.linalg.det(A)\n",
        "x3 = np.linalg.det(A3)/np.linalg.det(A)\n",
        "print(\"The price of flour per sack is\",round(x1))\n",
        "print(\"The price of yeast per pack is\",round(x2))\n",
        "print(\"The price of a piece of egg is\",round(x3))\n"
      ]
    }
  ]
}