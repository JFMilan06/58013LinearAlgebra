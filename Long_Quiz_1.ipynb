{
  "nbformat": 4,
  "nbformat_minor": 0,
  "metadata": {
    "colab": {
      "provenance": [],
      "authorship_tag": "ABX9TyPd4d5emiyK+GKR6IRLLV52",
      "include_colab_link": true
    },
    "kernelspec": {
      "name": "python3",
      "display_name": "Python 3"
    },
    "language_info": {
      "name": "python"
    }
  },
  "cells": [
    {
      "cell_type": "markdown",
      "metadata": {
        "id": "view-in-github",
        "colab_type": "text"
      },
      "source": [
        "<a href=\"https://colab.research.google.com/github/JFMilan06/58013LinearAlgebra/blob/main/Long_Quiz_1.ipynb\" target=\"_parent\"><img src=\"https://colab.research.google.com/assets/colab-badge.svg\" alt=\"Open In Colab\"/></a>"
      ]
    },
    {
      "cell_type": "markdown",
      "source": [
        "# Problem 1"
      ],
      "metadata": {
        "id": "TAysEJNjcule"
      }
    },
    {
      "cell_type": "code",
      "execution_count": 89,
      "metadata": {
        "colab": {
          "base_uri": "https://localhost:8080/"
        },
        "id": "gBJJBTalcmCL",
        "outputId": "3518c173-359c-413f-fab3-e6440471b0d1"
      },
      "outputs": [
        {
          "output_type": "stream",
          "name": "stdout",
          "text": [
            "AB = [[22 28]\n",
            " [49 64]]\n",
            "\n",
            "D+D= [[2 4]\n",
            " [6 8]]\n",
            "\n",
            "2C= [[ 2  4  6]\n",
            " [ 8 10 12]\n",
            " [14 16 18]]\n"
          ]
        }
      ],
      "source": [
        "import numpy as np\n",
        "A = np.array([[1,2,3],\n",
        "             [4,5,6]])\n",
        "B = np.array([[1,2],\n",
        "              [3,4],\n",
        "              [5,6]])\n",
        "C = np.array([[1,2,3],\n",
        "             [4,5,6],\n",
        "              [7,8,9]])\n",
        "D = np.array([[1,2],\n",
        "             [3,4]])\n",
        "\n",
        "print(\"AB =\",np.dot(A,B))\n",
        "print(\"\\nD+D=\",np.add(D,D))\n",
        "print(\"\\n2C=\",np.multiply(2,C))"
      ]
    },
    {
      "cell_type": "markdown",
      "source": [
        "# Problem 2"
      ],
      "metadata": {
        "id": "csXNs5W7oXq5"
      }
    },
    {
      "cell_type": "code",
      "source": [
        "import numpy as np\n",
        "A = [2,7,4]\n",
        "B = [3,9,8]\n",
        "\n",
        "print(\"The cross product is =\",np.cross(A, B))"
      ],
      "metadata": {
        "colab": {
          "base_uri": "https://localhost:8080/"
        },
        "id": "228MJdU_gi3U",
        "outputId": "9e7013d8-5fb5-4ceb-f42e-9b3e92d07cd2"
      },
      "execution_count": 91,
      "outputs": [
        {
          "output_type": "stream",
          "name": "stdout",
          "text": [
            "The cross product is = [20 -4 -3]\n"
          ]
        }
      ]
    }
  ]
}