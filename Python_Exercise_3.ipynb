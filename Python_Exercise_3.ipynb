{
  "nbformat": 4,
  "nbformat_minor": 0,
  "metadata": {
    "colab": {
      "provenance": [],
      "authorship_tag": "ABX9TyPL5/Wh+eLVQDhQay/7UFqt",
      "include_colab_link": true
    },
    "kernelspec": {
      "name": "python3",
      "display_name": "Python 3"
    },
    "language_info": {
      "name": "python"
    }
  },
  "cells": [
    {
      "cell_type": "markdown",
      "metadata": {
        "id": "view-in-github",
        "colab_type": "text"
      },
      "source": [
        "<a href=\"https://colab.research.google.com/github/JFMilan06/58013LinearAlgebra/blob/main/Python_Exercise_3.ipynb\" target=\"_parent\"><img src=\"https://colab.research.google.com/assets/colab-badge.svg\" alt=\"Open In Colab\"/></a>"
      ]
    },
    {
      "cell_type": "markdown",
      "source": [
        "Vector Addition"
      ],
      "metadata": {
        "id": "djSePAdbZIeX"
      }
    },
    {
      "cell_type": "code",
      "execution_count": 14,
      "metadata": {
        "colab": {
          "base_uri": "https://localhost:8080/"
        },
        "id": "TdrqQH4QWPUP",
        "outputId": "f5f03977-b1c5-4242-86f0-3da36baab772"
      },
      "outputs": [
        {
          "output_type": "execute_result",
          "data": {
            "text/plain": [
              "array([ 4,  3, -1])"
            ]
          },
          "metadata": {},
          "execution_count": 14
        }
      ],
      "source": [
        "import numpy as np\n",
        "A = np.array([1,2,0])\n",
        "B = np.array([3,1,-2])\n",
        "C = np.array([0,0,1])\n",
        "\n",
        "np.add(A,np.add(B,C))"
      ]
    },
    {
      "cell_type": "markdown",
      "source": [
        "Vector Subtraction"
      ],
      "metadata": {
        "id": "IWZFVfUdZMm3"
      }
    },
    {
      "cell_type": "code",
      "source": [
        "np.subtract(A,B)"
      ],
      "metadata": {
        "colab": {
          "base_uri": "https://localhost:8080/"
        },
        "id": "c8J9y9djW3jN",
        "outputId": "8098c42b-673d-4844-f7fd-efa82ae9f3b7"
      },
      "execution_count": 15,
      "outputs": [
        {
          "output_type": "execute_result",
          "data": {
            "text/plain": [
              "array([-2,  1,  2])"
            ]
          },
          "metadata": {},
          "execution_count": 15
        }
      ]
    },
    {
      "cell_type": "markdown",
      "source": [
        "Vector Multiplication"
      ],
      "metadata": {
        "id": "Hc4jCi-_ZQOB"
      }
    },
    {
      "cell_type": "code",
      "source": [
        "np.multiply(A,B)\n",
        "\n",
        "A*B"
      ],
      "metadata": {
        "colab": {
          "base_uri": "https://localhost:8080/"
        },
        "id": "omaqoG2iY5Y2",
        "outputId": "ac3f4a6d-b902-4ff5-db38-bb5ec2004b3e"
      },
      "execution_count": 17,
      "outputs": [
        {
          "output_type": "execute_result",
          "data": {
            "text/plain": [
              "array([3, 2, 0])"
            ]
          },
          "metadata": {},
          "execution_count": 17
        }
      ]
    },
    {
      "cell_type": "markdown",
      "source": [
        "Vector Division"
      ],
      "metadata": {
        "id": "dIGH8y0SZTDt"
      }
    },
    {
      "cell_type": "code",
      "source": [
        "np.divide(A,B)\n",
        "\n",
        "A/B\n",
        "\n",
        "C = np.array([3.9,1.8,7.7])\n",
        "D = np.array([1,1,1])\n",
        "C//D\n",
        "\n",
        "np.array(A/B,dtype=int)"
      ],
      "metadata": {
        "colab": {
          "base_uri": "https://localhost:8080/"
        },
        "id": "QOicLncOY_BO",
        "outputId": "f27a5950-c130-4899-81ac-fc12dbe5fb82"
      },
      "execution_count": 16,
      "outputs": [
        {
          "output_type": "execute_result",
          "data": {
            "text/plain": [
              "array([0, 2, 0])"
            ]
          },
          "metadata": {},
          "execution_count": 16
        }
      ]
    }
  ]
}