{
  "nbformat": 4,
  "nbformat_minor": 0,
  "metadata": {
    "colab": {
      "provenance": [],
      "authorship_tag": "ABX9TyMEX3brEMK7W+mBcq1GHzuQ",
      "include_colab_link": true
    },
    "kernelspec": {
      "name": "python3",
      "display_name": "Python 3"
    },
    "language_info": {
      "name": "python"
    }
  },
  "cells": [
    {
      "cell_type": "markdown",
      "metadata": {
        "id": "view-in-github",
        "colab_type": "text"
      },
      "source": [
        "<a href=\"https://colab.research.google.com/github/JFMilan06/58013LinearAlgebra/blob/main/Vector%2C_Spaces_and_Operations.ipynb\" target=\"_parent\"><img src=\"https://colab.research.google.com/assets/colab-badge.svg\" alt=\"Open In Colab\"/></a>"
      ]
    },
    {
      "cell_type": "code",
      "execution_count": 3,
      "metadata": {
        "colab": {
          "base_uri": "https://localhost:8080/"
        },
        "id": "qOqkcWfBg5p1",
        "outputId": "219b0288-7d13-490e-ed4f-7b0010c5f8de"
      },
      "outputs": [
        {
          "output_type": "stream",
          "name": "stdout",
          "text": [
            "Vector A is  [4 3]\n",
            "Vector B is  [ 2 -5]\n"
          ]
        }
      ],
      "source": [
        "import numpy as np\n",
        "A = np.array([4,3])\n",
        "B = np.array([2,-5])\n",
        "print('Vector A is ', A)\n",
        "print('Vector B is ', B)"
      ]
    },
    {
      "cell_type": "code",
      "source": [
        "#size, dimension, size\n",
        "import numpy as np\n",
        "\n",
        "ball1 = np.array([[1],[2],[3]])\n",
        "ball2 = np.array([0,1,-1])\n",
        "print(ball1)"
      ],
      "metadata": {
        "colab": {
          "base_uri": "https://localhost:8080/"
        },
        "id": "NOjNzNpiifr4",
        "outputId": "89d51b86-f06b-43c4-a687-85227dba2cdf"
      },
      "execution_count": 11,
      "outputs": [
        {
          "output_type": "stream",
          "name": "stdout",
          "text": [
            "[[1]\n",
            " [2]\n",
            " [3]]\n"
          ]
        }
      ]
    },
    {
      "cell_type": "code",
      "source": [
        "import numpy as np\n",
        "\n",
        "ball1 = np.array([1,2,3])\n",
        "ball2 = np.array([0,1,-1])\n",
        "print(ball1)\n",
        "print(ball2)\n",
        "ball= np.shape(ball1)\n",
        "balls= np.shape(ball2)\n",
        "z= ball+balls\n",
        "print(z)"
      ],
      "metadata": {
        "colab": {
          "base_uri": "https://localhost:8080/"
        },
        "id": "-Ji5e9vakjZs",
        "outputId": "1685c0b5-0806-4707-a1d1-d44a70c9ada1"
      },
      "execution_count": 22,
      "outputs": [
        {
          "output_type": "stream",
          "name": "stdout",
          "text": [
            "[1 2 3]\n",
            "[ 0  1 -1]\n",
            "(3, 3)\n"
          ]
        }
      ]
    },
    {
      "cell_type": "code",
      "source": [
        "#Addition\n",
        "import numpy as np\n",
        "\n",
        "A= np.array([4,3])\n",
        "B= np.array([2,-5])\n",
        "R= np.add(A,B)\n",
        "\n",
        "print(R)\n"
      ],
      "metadata": {
        "colab": {
          "base_uri": "https://localhost:8080/"
        },
        "id": "giGEx5aNsIb5",
        "outputId": "da895b1f-f3eb-492c-986c-e99c4b8f87bc"
      },
      "execution_count": 26,
      "outputs": [
        {
          "output_type": "stream",
          "name": "stdout",
          "text": [
            "[ 6 -2]\n"
          ]
        }
      ]
    },
    {
      "cell_type": "code",
      "source": [
        "#Subtract\n",
        "import numpy as np\n",
        "\n",
        "A= np.array([4,3])\n",
        "B= np.array([2,-5])\n",
        "R= np.subtract(A,B)\n",
        "\n",
        "print(R)\n"
      ],
      "metadata": {
        "colab": {
          "base_uri": "https://localhost:8080/"
        },
        "id": "3C7NhdOwt124",
        "outputId": "3b89b921-7be3-4df2-f227-87be6740c742"
      },
      "execution_count": 29,
      "outputs": [
        {
          "output_type": "stream",
          "name": "stdout",
          "text": [
            "[2 8]\n"
          ]
        }
      ]
    },
    {
      "cell_type": "code",
      "source": [
        "#Scalar Product\n",
        "import numpy as np\n",
        "\n",
        "A= np.array([4,3])\n",
        "B= np.array([2,-5])\n",
        "S=[2]\n",
        "V= S*A\n",
        "print(V)\n"
      ],
      "metadata": {
        "colab": {
          "base_uri": "https://localhost:8080/"
        },
        "id": "4tVNytJfuh4n",
        "outputId": "896d9845-8050-47c4-b85e-7f088f7411dc"
      },
      "execution_count": 30,
      "outputs": [
        {
          "output_type": "stream",
          "name": "stdout",
          "text": [
            "[8 6]\n"
          ]
        }
      ]
    },
    {
      "cell_type": "code",
      "source": [
        "#Dot Product\n",
        "import numpy as np\n",
        "\n",
        "A= np.array([4,3])\n",
        "B= np.array([2,-5])\n",
        "V= A*B\n",
        "print(V)\n"
      ],
      "metadata": {
        "colab": {
          "base_uri": "https://localhost:8080/"
        },
        "id": "3Mn7NTlJvtFH",
        "outputId": "1ae2541e-fc17-4392-c37a-206ae2dd77bd"
      },
      "execution_count": 33,
      "outputs": [
        {
          "output_type": "stream",
          "name": "stdout",
          "text": [
            "[  8 -15]\n"
          ]
        }
      ]
    },
    {
      "cell_type": "code",
      "source": [
        "#Cross Product\n",
        "import numpy as np\n",
        "\n",
        "A= np.array([4,3])\n",
        "B= np.array([[2],[-5]])\n",
        "V= A*B\n",
        "print(V)\n"
      ],
      "metadata": {
        "colab": {
          "base_uri": "https://localhost:8080/"
        },
        "id": "ly0fLyDixF45",
        "outputId": "aa995717-455e-46e1-b555-84d56a3d0a40"
      },
      "execution_count": 50,
      "outputs": [
        {
          "output_type": "stream",
          "name": "stdout",
          "text": [
            "[[  8   6]\n",
            " [-20 -15]]\n"
          ]
        }
      ]
    },
    {
      "cell_type": "code",
      "source": [
        "#Identity Matrix\n",
        "import numpy as np\n",
        "c= np.eye(2,2)\n",
        "print(c)\n",
        "\n",
        "#Zero Matrix\n",
        "d = np.zeros([5,5])\n",
        "print(d)\n",
        "#Full Matrix\n",
        "e = np.full([3,3],7)\n",
        "print(e)\n",
        "#Transpose of Matrix\n",
        "f= np.transpose(V)\n",
        "print(f)"
      ],
      "metadata": {
        "colab": {
          "base_uri": "https://localhost:8080/"
        },
        "id": "_ldAYbQHy2Op",
        "outputId": "48cc4226-13dc-4bdc-8148-1d8c53ad9d25"
      },
      "execution_count": 57,
      "outputs": [
        {
          "output_type": "stream",
          "name": "stdout",
          "text": [
            "[[1. 0.]\n",
            " [0. 1.]]\n",
            "[[0. 0. 0. 0. 0.]\n",
            " [0. 0. 0. 0. 0.]\n",
            " [0. 0. 0. 0. 0.]\n",
            " [0. 0. 0. 0. 0.]\n",
            " [0. 0. 0. 0. 0.]]\n",
            "[[7 7 7]\n",
            " [7 7 7]\n",
            " [7 7 7]]\n",
            "[[  8 -20]\n",
            " [  6 -15]]\n"
          ]
        }
      ]
    },
    {
      "cell_type": "code",
      "source": [],
      "metadata": {
        "id": "zkMi0oEA0_hX"
      },
      "execution_count": null,
      "outputs": []
    }
  ]
}