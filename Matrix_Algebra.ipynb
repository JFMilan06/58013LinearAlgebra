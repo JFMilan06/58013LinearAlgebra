{
  "nbformat": 4,
  "nbformat_minor": 0,
  "metadata": {
    "colab": {
      "provenance": [],
      "authorship_tag": "ABX9TyMHRIsj6Ses1FV7+gLFLdPK",
      "include_colab_link": true
    },
    "kernelspec": {
      "name": "python3",
      "display_name": "Python 3"
    },
    "language_info": {
      "name": "python"
    }
  },
  "cells": [
    {
      "cell_type": "markdown",
      "metadata": {
        "id": "view-in-github",
        "colab_type": "text"
      },
      "source": [
        "<a href=\"https://colab.research.google.com/github/JFMilan06/58013LinearAlgebra/blob/main/Matrix_Algebra.ipynb\" target=\"_parent\"><img src=\"https://colab.research.google.com/assets/colab-badge.svg\" alt=\"Open In Colab\"/></a>"
      ]
    },
    {
      "cell_type": "code",
      "execution_count": null,
      "metadata": {
        "colab": {
          "base_uri": "https://localhost:8080/"
        },
        "id": "OHjML7oc-7VF",
        "outputId": "80dce65c-a6ff-43d7-f70b-ff09e8d1ade9"
      },
      "outputs": [
        {
          "output_type": "stream",
          "name": "stdout",
          "text": [
            "[[ 9  9  9]\n",
            " [18 18 18]\n",
            " [27 27 27]]\n",
            "[[12 12 12]\n",
            " [18 18 18]\n",
            " [24 24 24]]\n"
          ]
        }
      ],
      "source": [
        "#Not Commutative AB is not equal to BA\n",
        "import numpy as np\n",
        "A = np.array([[1,1,1],[2,2,2],[3,3,3]])\n",
        "B = np.array([[2,2,2],[3,3,3],[4,4,4]])\n",
        "\n",
        "X = np.dot(A,B)\n",
        "Y = np.dot(B,A)\n",
        "print(X)\n",
        "print(Y)"
      ]
    },
    {
      "cell_type": "code",
      "source": [
        "#Associative (AB)C=A(BC)\n",
        "import numpy as np\n",
        "A = np.array([[1,1,1],[2,2,2],[3,3,3]])\n",
        "B = np.array([[2,2,2],[3,3,3],[4,4,4]])\n",
        "C = np.array([[1,1,2],[1,2,2],[1,2,3]])\n",
        "X = np.dot(A,np.dot(B,C))\n",
        "Y = np.dot(np.dot(A,B),C)\n",
        "print(X)\n",
        "print(Y)"
      ],
      "metadata": {
        "colab": {
          "base_uri": "https://localhost:8080/"
        },
        "id": "762DdNm_AHY1",
        "outputId": "f5b49f92-fc60-4c96-befd-52eb0bd5a417"
      },
      "execution_count": null,
      "outputs": [
        {
          "output_type": "stream",
          "name": "stdout",
          "text": [
            "[[ 27  45  63]\n",
            " [ 54  90 126]\n",
            " [ 81 135 189]]\n",
            "[[ 27  45  63]\n",
            " [ 54  90 126]\n",
            " [ 81 135 189]]\n"
          ]
        }
      ]
    },
    {
      "cell_type": "code",
      "source": [
        "#Identity IA=A and IA=A\n",
        "import numpy as np\n",
        "A = np.array([[1,1,1],[2,2,2],[3,3,3]])\n",
        "I = np.array([[1,0,0],[0,1,0],[0,0,1]])\n",
        "\n",
        "X = np.dot(A,I)\n",
        "Y = np.dot(I,A)\n",
        "print(X)\n",
        "print(Y)"
      ],
      "metadata": {
        "colab": {
          "base_uri": "https://localhost:8080/"
        },
        "id": "F_ZTC4DwBB1c",
        "outputId": "28370cdf-2609-4892-d6f5-65e8d2e81d0d"
      },
      "execution_count": null,
      "outputs": [
        {
          "output_type": "stream",
          "name": "stdout",
          "text": [
            "[[1 1 1]\n",
            " [2 2 2]\n",
            " [3 3 3]]\n",
            "[[1 1 1]\n",
            " [2 2 2]\n",
            " [3 3 3]]\n"
          ]
        }
      ]
    },
    {
      "cell_type": "code",
      "source": [
        "#Distributive A(B+C)=AB+AC\n",
        "import numpy as np\n",
        "A = np.array([[1,1,1],[2,2,2],[3,3,3]])\n",
        "B = np.array([[2,2,2],[3,3,3],[4,4,4]])\n",
        "C = np.array([[1,1,2],[1,2,2],[1,2,3]])\n",
        "X = np.dot(A,np.add(B,C))\n",
        "Y = np.add(np.dot(A,B),np.dot(A,C))\n",
        "print(X)\n",
        "print(Y)"
      ],
      "metadata": {
        "colab": {
          "base_uri": "https://localhost:8080/"
        },
        "id": "abcXR9mrBEEa",
        "outputId": "7346874d-5190-46c2-e72b-cb46d2ca3612"
      },
      "execution_count": null,
      "outputs": [
        {
          "output_type": "stream",
          "name": "stdout",
          "text": [
            "[[12 14 16]\n",
            " [24 28 32]\n",
            " [36 42 48]]\n",
            "[[12 14 16]\n",
            " [24 28 32]\n",
            " [36 42 48]]\n"
          ]
        }
      ]
    },
    {
      "cell_type": "code",
      "source": [
        "#Multiplicative property of zero 0A=0 and A0=0\n",
        "import numpy as np\n",
        "A = np.array([[1,1,1],[2,2,2],[3,3,3]])\n",
        "O = np.array([[0,0,0],[0,0,0],[0,0,0]])\n",
        "\n",
        "X = np.dot(A,O)\n",
        "Y = np.dot(O,A)\n",
        "print(X)\n",
        "print(Y)"
      ],
      "metadata": {
        "colab": {
          "base_uri": "https://localhost:8080/"
        },
        "id": "NXnojvFyBGVq",
        "outputId": "52787b4a-cfad-4525-9188-a7201ce1cd8f"
      },
      "execution_count": null,
      "outputs": [
        {
          "output_type": "stream",
          "name": "stdout",
          "text": [
            "[[0 0 0]\n",
            " [0 0 0]\n",
            " [0 0 0]]\n",
            "[[0 0 0]\n",
            " [0 0 0]\n",
            " [0 0 0]]\n"
          ]
        }
      ]
    },
    {
      "cell_type": "code",
      "source": [
        "#Dimension Property The product of an M x N matrix and an N x K matrix is M x K\n",
        "import numpy as np\n",
        "A = np.array([[1,1,1],[2,2,2]])\n",
        "B = np.array([[1,1],[2,2],[3,3]])\n",
        "\n",
        "X = np.dot(A,B)\n",
        "print(X)"
      ],
      "metadata": {
        "id": "2TPUyS_fI9PB",
        "colab": {
          "base_uri": "https://localhost:8080/"
        },
        "outputId": "6848e16b-86ed-4e26-f833-09cad3cf233c"
      },
      "execution_count": 5,
      "outputs": [
        {
          "output_type": "stream",
          "name": "stdout",
          "text": [
            "[[ 6  6]\n",
            " [12 12]]\n"
          ]
        }
      ]
    }
  ]
}