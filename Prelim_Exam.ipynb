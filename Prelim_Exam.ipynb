{
  "nbformat": 4,
  "nbformat_minor": 0,
  "metadata": {
    "colab": {
      "provenance": [],
      "authorship_tag": "ABX9TyNvZp5775wFF94jX9Isx7Sp",
      "include_colab_link": true
    },
    "kernelspec": {
      "name": "python3",
      "display_name": "Python 3"
    },
    "language_info": {
      "name": "python"
    }
  },
  "cells": [
    {
      "cell_type": "markdown",
      "metadata": {
        "id": "view-in-github",
        "colab_type": "text"
      },
      "source": [
        "<a href=\"https://colab.research.google.com/github/JFMilan06/58013LinearAlgebra/blob/main/Prelim_Exam.ipynb\" target=\"_parent\"><img src=\"https://colab.research.google.com/assets/colab-badge.svg\" alt=\"Open In Colab\"/></a>"
      ]
    },
    {
      "cell_type": "markdown",
      "source": [
        "# Question 1. (20 points) Create a Multiplication Table/Chart of 1 to 10 using numpy/ python program."
      ],
      "metadata": {
        "id": "b-o7DgI0zuxb"
      }
    },
    {
      "cell_type": "code",
      "execution_count": 3,
      "metadata": {
        "colab": {
          "base_uri": "https://localhost:8080/"
        },
        "id": "fFE22ONazkrf",
        "outputId": "b5fb3cc5-733d-45b3-c87a-8df669dde560"
      },
      "outputs": [
        {
          "output_type": "stream",
          "name": "stdout",
          "text": [
            "[ 1  2  3  4  5  6  7  8  9 10]\n",
            "[ 2  4  6  8 10 12 14 16 18 20]\n",
            "[ 3  6  9 12 15 18 21 24 27 30]\n",
            "[ 4  8 12 16 20 24 28 32 36 40]\n",
            "[ 5 10 15 20 25 30 35 40 45 50]\n",
            "[ 6 12 18 24 30 36 42 48 54 60]\n",
            "[ 7 14 21 28 35 42 49 56 63 70]\n",
            "[ 8 16 24 32 40 48 56 64 72 80]\n",
            "[ 9 18 27 36 45 54 63 72 81 90]\n",
            "[ 10  20  30  40  50  60  70  80  90 100]\n"
          ]
        }
      ],
      "source": [
        "import numpy as np\n",
        "\n",
        "A = np.array([1,2,3,4,5,6,7,8,9,10])\n",
        "\n",
        "print(A)\n",
        "print(np.multiply(2,A))\n",
        "print(np.multiply(3,A))\n",
        "print(np.multiply(4,A))\n",
        "print(np.multiply(5,A))\n",
        "print(np.multiply(6,A))\n",
        "print(np.multiply(7,A))\n",
        "print(np.multiply(8,A))\n",
        "print(np.multiply(9,A))\n",
        "print(np.multiply(10,A))"
      ]
    },
    {
      "cell_type": "markdown",
      "source": [
        "# Question 2. (10 points) In relation to Question 1, show a solution that doubles all the values of each element."
      ],
      "metadata": {
        "id": "6fRPcB8MzvEK"
      }
    },
    {
      "cell_type": "code",
      "source": [
        "import numpy as np\n",
        "\n",
        "A = np.array([1,2,3,4,5,6,7,8,9,10])\n",
        "\n",
        "print(np.multiply(2,A))"
      ],
      "metadata": {
        "colab": {
          "base_uri": "https://localhost:8080/"
        },
        "id": "yBO-z_Pjz5Rq",
        "outputId": "36cac91a-2511-4a9c-80c1-c110e5245a5c"
      },
      "execution_count": 3,
      "outputs": [
        {
          "output_type": "stream",
          "name": "stdout",
          "text": [
            "[ 2  4  6  8 10 12 14 16 18 20]\n"
          ]
        }
      ]
    },
    {
      "cell_type": "markdown",
      "source": [
        "# Question 3. (10 points) Create a square matrix that has a diagonal 1's."
      ],
      "metadata": {
        "id": "_pr_RZwPzvUK"
      }
    },
    {
      "cell_type": "code",
      "source": [
        "import numpy as np\n",
        "B = np.eye(3,3)\n",
        "\n",
        "print(B)"
      ],
      "metadata": {
        "colab": {
          "base_uri": "https://localhost:8080/"
        },
        "id": "_A4GmUuxz4dq",
        "outputId": "c79bbfaf-a1e9-487f-d277-7c7e1d5f7bfb"
      },
      "execution_count": 9,
      "outputs": [
        {
          "output_type": "stream",
          "name": "stdout",
          "text": [
            "[[1. 0. 0.]\n",
            " [0. 1. 0.]\n",
            " [0. 0. 1.]]\n"
          ]
        }
      ]
    },
    {
      "cell_type": "markdown",
      "source": [
        "# Question 4. (30 points) Create a matrix whose elements are:\n",
        "matrix = np.array([[1, 2, 3, 4],\n",
        "                   [5, 6, 7, 8],\n",
        "                   [9, 10, 11, 12]])\n",
        "                   Type a python program that can view the size, shape, and dimension of the matrix above."
      ],
      "metadata": {
        "id": "sXZraNXTzvjT"
      }
    },
    {
      "cell_type": "code",
      "source": [
        "import numpy as np\n",
        "matrix = np.array([[1, 2, 3, 4],\n",
        "                   [5, 6, 7, 8],\n",
        "                   [9, 10, 11, 12]])\n",
        "print(\"The size of the matrix is \",matrix.size)\n",
        "print(\"The shape of the matrix is \",matrix.shape)\n",
        "print(\"The dimension of the matrix is \",len(matrix.shape))"
      ],
      "metadata": {
        "colab": {
          "base_uri": "https://localhost:8080/"
        },
        "id": "47OfO_lN6M-p",
        "outputId": "549fbdf9-d2e6-4f19-9ffd-4ad9a84fc2f8"
      },
      "execution_count": 4,
      "outputs": [
        {
          "output_type": "stream",
          "name": "stdout",
          "text": [
            "The size of the matrix is  12\n",
            "The shape of the matrix is  (3, 4)\n",
            "The dimension of the matrix is  2\n"
          ]
        }
      ]
    },
    {
      "cell_type": "markdown",
      "source": [
        "# Question 5. (30 points) Create a result array by adding the following two NumPy arrays. Next, modify the result array by calculating the square of each element."
      ],
      "metadata": {
        "id": "Cu41nbCx23sG"
      }
    },
    {
      "cell_type": "code",
      "source": [
        "import numpy as numpy\n",
        "arrayOne = numpy.array([[5,6,9],[21,18,27]])\n",
        "arrayTwo = numpy.array([[15,33,24],[4,7,1]])\n",
        "\n",
        "D = arrayOne**2\n",
        "E = arrayTwo**2\n",
        "print(D)\n",
        "print(E)"
      ],
      "metadata": {
        "colab": {
          "base_uri": "https://localhost:8080/"
        },
        "id": "73WHA68c24hl",
        "outputId": "31103cce-cb8b-411f-80a8-d9e7d23c7165"
      },
      "execution_count": 19,
      "outputs": [
        {
          "output_type": "stream",
          "name": "stdout",
          "text": [
            "[[ 25  36  81]\n",
            " [441 324 729]]\n",
            "[[ 225 1089  576]\n",
            " [  16   49    1]]\n"
          ]
        }
      ]
    }
  ]
}